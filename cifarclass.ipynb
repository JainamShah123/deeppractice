{
 "cells": [
  {
   "cell_type": "code",
   "execution_count": 1,
   "metadata": {},
   "outputs": [],
   "source": [
    "import torch\n",
    "from torch import nn\n",
    "from torch.utils.data import Dataset,DataLoader\n",
    "from torchvision import datasets\n",
    "from torchvision.transforms import ToTensor\n",
    "import matplotlib.pyplot as plt"
   ]
  },
  {
   "cell_type": "code",
   "execution_count": 2,
   "metadata": {},
   "outputs": [
    {
     "name": "stdout",
     "output_type": "stream",
     "text": [
      "Using cuda device\n"
     ]
    }
   ],
   "source": [
    "device = \"cuda\" if torch.cuda.is_available() else \"cpu\"\n",
    "print(f\"Using {device} device\")"
   ]
  },
  {
   "cell_type": "code",
   "execution_count": 3,
   "metadata": {},
   "outputs": [
    {
     "name": "stdout",
     "output_type": "stream",
     "text": [
      "Files already downloaded and verified\n",
      "Files already downloaded and verified\n"
     ]
    }
   ],
   "source": [
    "cifartrain=datasets.CIFAR10(\n",
    "    root=\"data\",\n",
    "    train=True,\n",
    "    download=True,\n",
    "    transform=ToTensor()\n",
    ")\n",
    "\n",
    "cifartest=datasets.CIFAR10(\n",
    "    root=\"data\",\n",
    "    train=False,\n",
    "    download=True,\n",
    "    transform=ToTensor()\n",
    ")"
   ]
  },
  {
   "cell_type": "code",
   "execution_count": 4,
   "metadata": {},
   "outputs": [],
   "source": [
    "train_dataloader=DataLoader(dataset=cifartrain,batch_size=64,shuffle=True)\n",
    "test_dataloader=DataLoader(dataset=cifartest,batch_size=64,shuffle=True)"
   ]
  },
  {
   "cell_type": "code",
   "execution_count": 5,
   "metadata": {},
   "outputs": [],
   "source": [
    "class NeuralNetwork(nn.Module):\n",
    "    def __init__(self):\n",
    "        super(NeuralNetwork, self).__init__()\n",
    "        self.flatten = nn.Flatten()\n",
    "        self.linear_relu_stack = nn.Sequential(\n",
    "            nn.Linear(3*32*32, 1024),\n",
    "            nn.ReLU(),\n",
    "            nn.Linear(1024, 512),\n",
    "            nn.ReLU(),\n",
    "            nn.Linear(512, 10)\n",
    "        )\n",
    "\n",
    "    def forward(self, x):\n",
    "        x = self.flatten(x)\n",
    "        logits = self.linear_relu_stack(x)\n",
    "        return logits"
   ]
  },
  {
   "cell_type": "code",
   "execution_count": null,
   "metadata": {},
   "outputs": [],
   "source": []
  },
  {
   "cell_type": "code",
   "execution_count": 6,
   "metadata": {},
   "outputs": [
    {
     "name": "stdout",
     "output_type": "stream",
     "text": [
      "NeuralNetwork(\n",
      "  (flatten): Flatten(start_dim=1, end_dim=-1)\n",
      "  (linear_relu_stack): Sequential(\n",
      "    (0): Linear(in_features=3072, out_features=1024, bias=True)\n",
      "    (1): ReLU()\n",
      "    (2): Linear(in_features=1024, out_features=512, bias=True)\n",
      "    (3): ReLU()\n",
      "    (4): Linear(in_features=512, out_features=10, bias=True)\n",
      "  )\n",
      ")\n"
     ]
    }
   ],
   "source": [
    "model = NeuralNetwork().to(device)\n",
    "print(model)"
   ]
  },
  {
   "cell_type": "code",
   "execution_count": 7,
   "metadata": {},
   "outputs": [],
   "source": [
    "def train_loop(dataloader, model, loss_fn, optimizer):\n",
    "    size = len(dataloader.dataset)\n",
    "    for batch, (X, y) in enumerate(dataloader):\n",
    "        # Compute prediction and loss\n",
    "        pred = nn.Softmax(dim=1)(model(X.cuda()))\n",
    "        loss = loss_fn(pred, y.cuda())\n",
    "\n",
    "        # Backpropagation\n",
    "        optimizer.zero_grad()\n",
    "        loss.backward()\n",
    "        optimizer.step()\n",
    "\n",
    "        if batch % 100 == 0:\n",
    "            loss, current = loss.item(), batch * len(X.cuda())\n",
    "            print(f\"loss: {loss:>7f}  [{current:>5d}/{size:>5d}]\")\n",
    "\n",
    "\n",
    "def test_loop(dataloader, model, loss_fn):\n",
    "    size = len(dataloader.dataset)\n",
    "    num_batches = len(dataloader)\n",
    "    test_loss, correct = 0, 0\n",
    "\n",
    "    with torch.no_grad():\n",
    "        for X, y in dataloader:\n",
    "            pred = nn.Softmax(dim=1)(model(X.cuda()))\n",
    "            test_loss += loss_fn(pred, y.cuda()).item()\n",
    "            correct += (pred.argmax(1) == y.cuda()).type(torch.float).sum().item()\n",
    "\n",
    "    test_loss /= num_batches\n",
    "    correct /= size\n",
    "    print(f\"Test Error: \\n Accuracy: {(100*correct):>0.1f}%, Avg loss: {test_loss:>8f} \\n\")\n"
   ]
  },
  {
   "cell_type": "code",
   "execution_count": 8,
   "metadata": {},
   "outputs": [
    {
     "name": "stdout",
     "output_type": "stream",
     "text": [
      "Epoch 1\n",
      "-------------------------------\n",
      "loss: 2.302252  [    0/50000]\n",
      "loss: 2.302007  [ 6400/50000]\n",
      "loss: 2.301076  [12800/50000]\n",
      "loss: 2.302584  [19200/50000]\n",
      "loss: 2.298417  [25600/50000]\n",
      "loss: 2.301682  [32000/50000]\n",
      "loss: 2.298552  [38400/50000]\n",
      "loss: 2.295808  [44800/50000]\n",
      "Test Error: \n",
      " Accuracy: 10.6%, Avg loss: 2.297053 \n",
      "\n",
      "Epoch 2\n",
      "-------------------------------\n",
      "loss: 2.295161  [    0/50000]\n",
      "loss: 2.297308  [ 6400/50000]\n",
      "loss: 2.301603  [12800/50000]\n",
      "loss: 2.291112  [19200/50000]\n",
      "loss: 2.295915  [25600/50000]\n",
      "loss: 2.296938  [32000/50000]\n",
      "loss: 2.289425  [38400/50000]\n",
      "loss: 2.285409  [44800/50000]\n",
      "Test Error: \n",
      " Accuracy: 12.4%, Avg loss: 2.285805 \n",
      "\n",
      "Epoch 3\n",
      "-------------------------------\n",
      "loss: 2.291604  [    0/50000]\n",
      "loss: 2.295363  [ 6400/50000]\n",
      "loss: 2.281157  [12800/50000]\n",
      "loss: 2.299959  [19200/50000]\n",
      "loss: 2.273010  [25600/50000]\n",
      "loss: 2.245944  [32000/50000]\n",
      "loss: 2.265041  [38400/50000]\n",
      "loss: 2.253691  [44800/50000]\n",
      "Test Error: \n",
      " Accuracy: 16.4%, Avg loss: 2.267403 \n",
      "\n",
      "Epoch 4\n",
      "-------------------------------\n",
      "loss: 2.262650  [    0/50000]\n",
      "loss: 2.230964  [ 6400/50000]\n",
      "loss: 2.255817  [12800/50000]\n",
      "loss: 2.266929  [19200/50000]\n",
      "loss: 2.275710  [25600/50000]\n",
      "loss: 2.254725  [32000/50000]\n",
      "loss: 2.203676  [38400/50000]\n",
      "loss: 2.271292  [44800/50000]\n",
      "Test Error: \n",
      " Accuracy: 19.2%, Avg loss: 2.245725 \n",
      "\n",
      "Epoch 5\n",
      "-------------------------------\n",
      "loss: 2.242869  [    0/50000]\n",
      "loss: 2.254159  [ 6400/50000]\n",
      "loss: 2.277867  [12800/50000]\n",
      "loss: 2.251395  [19200/50000]\n",
      "loss: 2.243839  [25600/50000]\n",
      "loss: 2.241304  [32000/50000]\n",
      "loss: 2.238380  [38400/50000]\n",
      "loss: 2.247483  [44800/50000]\n",
      "Test Error: \n",
      " Accuracy: 22.8%, Avg loss: 2.221727 \n",
      "\n",
      "Epoch 6\n",
      "-------------------------------\n",
      "loss: 2.235291  [    0/50000]\n",
      "loss: 2.255960  [ 6400/50000]\n",
      "loss: 2.239226  [12800/50000]\n",
      "loss: 2.229767  [19200/50000]\n",
      "loss: 2.231037  [25600/50000]\n",
      "loss: 2.193183  [32000/50000]\n",
      "loss: 2.205283  [38400/50000]\n",
      "loss: 2.187400  [44800/50000]\n",
      "Test Error: \n",
      " Accuracy: 25.8%, Avg loss: 2.201639 \n",
      "\n",
      "Epoch 7\n",
      "-------------------------------\n",
      "loss: 2.214575  [    0/50000]\n",
      "loss: 2.271598  [ 6400/50000]\n",
      "loss: 2.171140  [12800/50000]\n",
      "loss: 2.181409  [19200/50000]\n",
      "loss: 2.188590  [25600/50000]\n",
      "loss: 2.258136  [32000/50000]\n",
      "loss: 2.214495  [38400/50000]\n",
      "loss: 2.151628  [44800/50000]\n",
      "Test Error: \n",
      " Accuracy: 26.3%, Avg loss: 2.188248 \n",
      "\n",
      "Epoch 8\n",
      "-------------------------------\n",
      "loss: 2.254697  [    0/50000]\n",
      "loss: 2.188716  [ 6400/50000]\n",
      "loss: 2.252851  [12800/50000]\n",
      "loss: 2.148597  [19200/50000]\n",
      "loss: 2.254657  [25600/50000]\n",
      "loss: 2.136846  [32000/50000]\n",
      "loss: 2.141599  [38400/50000]\n",
      "loss: 2.176309  [44800/50000]\n",
      "Test Error: \n",
      " Accuracy: 28.4%, Avg loss: 2.176724 \n",
      "\n",
      "Epoch 9\n",
      "-------------------------------\n",
      "loss: 2.171472  [    0/50000]\n",
      "loss: 2.199389  [ 6400/50000]\n",
      "loss: 2.242324  [12800/50000]\n",
      "loss: 2.187284  [19200/50000]\n",
      "loss: 2.261561  [25600/50000]\n",
      "loss: 2.186173  [32000/50000]\n",
      "loss: 2.196957  [38400/50000]\n",
      "loss: 2.179030  [44800/50000]\n",
      "Test Error: \n",
      " Accuracy: 29.3%, Avg loss: 2.170053 \n",
      "\n",
      "Epoch 10\n",
      "-------------------------------\n",
      "loss: 2.114018  [    0/50000]\n",
      "loss: 2.244574  [ 6400/50000]\n",
      "loss: 2.145178  [12800/50000]\n",
      "loss: 2.183598  [19200/50000]\n",
      "loss: 2.186378  [25600/50000]\n",
      "loss: 2.097603  [32000/50000]\n",
      "loss: 2.131452  [38400/50000]\n",
      "loss: 2.109988  [44800/50000]\n",
      "Test Error: \n",
      " Accuracy: 29.1%, Avg loss: 2.165700 \n",
      "\n",
      "Done!\n"
     ]
    }
   ],
   "source": [
    "loss_fn = nn.CrossEntropyLoss()\n",
    "learning_rate = 1e-2\n",
    "optimizer = torch.optim.SGD(model.parameters(), lr=learning_rate)\n",
    "batch_size = 64\n",
    "epochs = 10\n",
    "for t in range(epochs):\n",
    "    print(f\"Epoch {t+1}\\n-------------------------------\")\n",
    "    train_loop(train_dataloader, model, loss_fn, optimizer)\n",
    "    test_loop(test_dataloader, model, loss_fn)\n",
    "print(\"Done!\")"
   ]
  },
  {
   "cell_type": "code",
   "execution_count": null,
   "metadata": {},
   "outputs": [],
   "source": []
  }
 ],
 "metadata": {
  "kernelspec": {
   "display_name": "Python 3",
   "language": "python",
   "name": "python3"
  },
  "language_info": {
   "codemirror_mode": {
    "name": "ipython",
    "version": 3
   },
   "file_extension": ".py",
   "mimetype": "text/x-python",
   "name": "python",
   "nbconvert_exporter": "python",
   "pygments_lexer": "ipython3",
   "version": "3.10.9"
  },
  "orig_nbformat": 4,
  "vscode": {
   "interpreter": {
    "hash": "369f2c481f4da34e4445cda3fffd2e751bd1c4d706f27375911949ba6bb62e1c"
   }
  }
 },
 "nbformat": 4,
 "nbformat_minor": 2
}
